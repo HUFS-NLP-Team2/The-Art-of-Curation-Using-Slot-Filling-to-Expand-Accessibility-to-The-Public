{
 "cells": [
  {
   "cell_type": "code",
   "execution_count": 1,
   "id": "c9090c22-29e6-4e88-96bc-c1c137ce18ba",
   "metadata": {},
   "outputs": [],
   "source": [
    "import os\n",
    "import shutil\n",
    "import re\n",
    "import pandas as pd\n",
    "import numpy as np\n",
    "from glob import glob\n",
    "import time"
   ]
  },
  {
   "cell_type": "code",
   "execution_count": 2,
   "metadata": {},
   "outputs": [],
   "source": [
    "art_field = 'romanticism'\n",
    "curr_path = os.getcwd()"
   ]
  },
  {
   "cell_type": "code",
   "execution_count": 3,
   "metadata": {},
   "outputs": [],
   "source": [
    "def folder_make(path):\n",
    "    if not os.path.exists(path) :\n",
    "        os.makedirs(path)\n",
    "        print(f'Created folder{path}')\n",
    "    else :\n",
    "        print(f'folder {path} already exists')\n",
    "    return path\n",
    "\n",
    "def rename_files(directory):\n",
    "    renamed_files = []\n",
    "    for filename in os.listdir(directory):\n",
    "        if not filename.endswith('.jpg'):\n",
    "            continue\n",
    "\n",
    "        name, ext = os.path.splitext(filename)\n",
    "        new_name = re.sub(r'\\W+', '_', name)\n",
    "\n",
    "        new_filename = new_name + ext\n",
    "        renamed_files.append(new_filename)\n",
    "\n",
    "        full_old_path = os.path.join(directory, filename)\n",
    "        full_new_path = os.path.join(directory, new_filename)\n",
    "\n",
    "        # 이미 같은 이름의 파일이 존재하고, 경로가 다른 경우 삭제\n",
    "        if os.path.exists(full_new_path) and full_old_path != full_new_path:\n",
    "            os.remove(full_new_path)\n",
    "\n",
    "        # 변경된 파일 이름으로 이동\n",
    "        if full_old_path != full_new_path:\n",
    "            os.rename(full_old_path, full_new_path)\n",
    "\n",
    "    return renamed_files\n"
   ]
  },
  {
   "cell_type": "code",
   "execution_count": 4,
   "metadata": {},
   "outputs": [],
   "source": [
    "def distribute_files(source_dir,target_folder, files):\n",
    "    folder_path = folder_make(os.path.join(source_dir, target_folder))\n",
    "    for file in files:\n",
    "        shutil.move(os.path.join(source_dir, file), os.path.join(folder_path,file))\n",
    "    return files"
   ]
  },
  {
   "cell_type": "code",
   "execution_count": 5,
   "metadata": {},
   "outputs": [],
   "source": [
    "renamed_files = rename_files(curr_path)"
   ]
  },
  {
   "cell_type": "code",
   "execution_count": 6,
   "metadata": {},
   "outputs": [
    {
     "ename": "ValueError",
     "evalue": "number sections must be larger than 0.",
     "output_type": "error",
     "traceback": [
      "\u001b[1;31m---------------------------------------------------------------------------\u001b[0m",
      "\u001b[1;31mValueError\u001b[0m                                Traceback (most recent call last)",
      "\u001b[1;32mc:\\Users\\royal\\Desktop\\NLP_workbench\\romanticism - 복사본\\convert_and_divide.ipynb 셀 6\u001b[0m line \u001b[0;36m2\n\u001b[0;32m      <a href='vscode-notebook-cell:/c%3A/Users/royal/Desktop/NLP_workbench/romanticism%20-%20%EB%B3%B5%EC%82%AC%EB%B3%B8/convert_and_divide.ipynb#W5sZmlsZQ%3D%3D?line=0'>1</a>\u001b[0m renamed_files \u001b[39m=\u001b[39m pd\u001b[39m.\u001b[39mSeries(renamed_files)\n\u001b[1;32m----> <a href='vscode-notebook-cell:/c%3A/Users/royal/Desktop/NLP_workbench/romanticism%20-%20%EB%B3%B5%EC%82%AC%EB%B3%B8/convert_and_divide.ipynb#W5sZmlsZQ%3D%3D?line=1'>2</a>\u001b[0m batches \u001b[39m=\u001b[39m np\u001b[39m.\u001b[39;49marray_split(renamed_files, np\u001b[39m.\u001b[39;49mceil(\u001b[39mlen\u001b[39;49m(renamed_files) \u001b[39m/\u001b[39;49m \u001b[39m100\u001b[39;49m))\n\u001b[0;32m      <a href='vscode-notebook-cell:/c%3A/Users/royal/Desktop/NLP_workbench/romanticism%20-%20%EB%B3%B5%EC%82%AC%EB%B3%B8/convert_and_divide.ipynb#W5sZmlsZQ%3D%3D?line=3'>4</a>\u001b[0m \u001b[39mfor\u001b[39;00m i,batch \u001b[39min\u001b[39;00m \u001b[39menumerate\u001b[39m(batches):\n\u001b[0;32m      <a href='vscode-notebook-cell:/c%3A/Users/royal/Desktop/NLP_workbench/romanticism%20-%20%EB%B3%B5%EC%82%AC%EB%B3%B8/convert_and_divide.ipynb#W5sZmlsZQ%3D%3D?line=4'>5</a>\u001b[0m     name_number \u001b[39m=\u001b[39m \u001b[39mf\u001b[39m\u001b[39m\"\u001b[39m\u001b[39m{\u001b[39;00mart_field\u001b[39m}\u001b[39;00m\u001b[39m_\u001b[39m\u001b[39m{\u001b[39;00mi\u001b[39m+\u001b[39m\u001b[39m1\u001b[39m\u001b[39m}\u001b[39;00m\u001b[39m\"\u001b[39m\n",
      "File \u001b[1;32m<__array_function__ internals>:180\u001b[0m, in \u001b[0;36marray_split\u001b[1;34m(*args, **kwargs)\u001b[0m\n",
      "File \u001b[1;32mc:\\Users\\royal\\anaconda3\\envs\\NLP_proj\\lib\\site-packages\\numpy\\lib\\shape_base.py:778\u001b[0m, in \u001b[0;36marray_split\u001b[1;34m(ary, indices_or_sections, axis)\u001b[0m\n\u001b[0;32m    776\u001b[0m Nsections \u001b[39m=\u001b[39m \u001b[39mint\u001b[39m(indices_or_sections)\n\u001b[0;32m    777\u001b[0m \u001b[39mif\u001b[39;00m Nsections \u001b[39m<\u001b[39m\u001b[39m=\u001b[39m \u001b[39m0\u001b[39m:\n\u001b[1;32m--> 778\u001b[0m     \u001b[39mraise\u001b[39;00m \u001b[39mValueError\u001b[39;00m(\u001b[39m'\u001b[39m\u001b[39mnumber sections must be larger than 0.\u001b[39m\u001b[39m'\u001b[39m) \u001b[39mfrom\u001b[39;00m \u001b[39mNone\u001b[39;00m\n\u001b[0;32m    779\u001b[0m Neach_section, extras \u001b[39m=\u001b[39m \u001b[39mdivmod\u001b[39m(Ntotal, Nsections)\n\u001b[0;32m    780\u001b[0m section_sizes \u001b[39m=\u001b[39m ([\u001b[39m0\u001b[39m] \u001b[39m+\u001b[39m\n\u001b[0;32m    781\u001b[0m                  extras \u001b[39m*\u001b[39m [Neach_section\u001b[39m+\u001b[39m\u001b[39m1\u001b[39m] \u001b[39m+\u001b[39m\n\u001b[0;32m    782\u001b[0m                  (Nsections\u001b[39m-\u001b[39mextras) \u001b[39m*\u001b[39m [Neach_section])\n",
      "\u001b[1;31mValueError\u001b[0m: number sections must be larger than 0."
     ]
    }
   ],
   "source": [
    "renamed_files = pd.Series(renamed_files)\n",
    "batches = np.array_split(renamed_files, np.ceil(len(renamed_files) / 100))\n",
    "\n",
    "for i,batch in enumerate(batches):\n",
    "    name_number = f\"{art_field}_{i+1}\"\n",
    "    files = distribute_files(curr_path, name_number,batch)\n",
    "    df = pd.DataFrame({'image':files})\n",
    "    df.to_csv(name_number+\".csv\")\n",
    "\n",
    "\n"
   ]
  },
  {
   "cell_type": "code",
   "execution_count": null,
   "id": "ed44391c-dde1-432b-b69f-22fa034c3e19",
   "metadata": {},
   "outputs": [],
   "source": []
  },
  {
   "cell_type": "code",
   "execution_count": null,
   "id": "47252bd7-630f-49db-b433-27010b47cf1f",
   "metadata": {},
   "outputs": [],
   "source": []
  }
 ],
 "metadata": {
  "kernelspec": {
   "display_name": "Python 3 (ipykernel)",
   "language": "python",
   "name": "python3"
  },
  "language_info": {
   "codemirror_mode": {
    "name": "ipython",
    "version": 3
   },
   "file_extension": ".py",
   "mimetype": "text/x-python",
   "name": "python",
   "nbconvert_exporter": "python",
   "pygments_lexer": "ipython3",
   "version": "3.9.18"
  }
 },
 "nbformat": 4,
 "nbformat_minor": 5
}
