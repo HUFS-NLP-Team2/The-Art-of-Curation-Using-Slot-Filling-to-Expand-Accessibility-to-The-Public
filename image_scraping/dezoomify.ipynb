{
 "cells": [
  {
   "cell_type": "code",
   "execution_count": 1,
   "id": "0ae151d0-2781-4c5a-bfc0-2ac56f7ae679",
   "metadata": {
    "tags": []
   },
   "outputs": [],
   "source": [
    "import subprocess\n",
    "import time\n",
    "import os\n",
    "import pandas as pd\n",
    "import pyautogui\n",
    "from tqdm import tqdm\n",
    "import random"
   ]
  },
  {
   "cell_type": "code",
   "execution_count": 2,
   "id": "d89c3314-e358-4ad3-9f44-37e92eb58af2",
   "metadata": {},
   "outputs": [],
   "source": [
    "# POS =(1670,180)\n",
    "# while True:\n",
    "#     time.sleep(0.5)\n",
    "#     print(pyautogui.position())"
   ]
  },
  {
   "cell_type": "code",
   "execution_count": 3,
   "id": "9f097040-722f-4f06-a477-1df919155922",
   "metadata": {},
   "outputs": [],
   "source": [
    "def auto_click():\n",
    "    pyautogui.moveTo(1393,259)\n",
    "    print('click')\n",
    "    time.sleep(1)\n",
    "    pyautogui.click(clicks=3, interval=1)"
   ]
  },
  {
   "cell_type": "code",
   "execution_count": 4,
   "id": "0715845c-5a32-4d99-807a-05ca55702bbd",
   "metadata": {
    "tags": []
   },
   "outputs": [],
   "source": [
    "curr_path = os.getcwd()\n",
    "url_path = os.path.join(curr_path,'urls')\n",
    "\n",
    "genre = 'romanticism'\n",
    "file_name = genre + '.csv'\n",
    "df = pd.read_csv(os.path.join(url_path,file_name))"
   ]
  },
  {
   "cell_type": "code",
   "execution_count": null,
   "id": "08ef0fe8-1395-4229-9c18-131c1637fe8f",
   "metadata": {
    "tags": []
   },
   "outputs": [
    {
     "name": "stdout",
     "output_type": "stream",
     "text": [
      "C:\\Users\\royal\\Desktop\\NLP_workbench\\utils\\dezoomify-rs.exe\n"
     ]
    },
    {
     "name": "stderr",
     "output_type": "stream",
     "text": [
      "  9%|███████                                                                      | 119/1300 [11:00<1:38:39,  5.01s/it]"
     ]
    }
   ],
   "source": [
    "zoomify_path = os.path.join(curr_path, \"utils\",\"dezoomify-rs.exe\")\n",
    "print(zoomify_path)\n",
    "\n",
    "start_time = time.time()\n",
    "for url in tqdm(df['url']):\n",
    "    # Start the dezoomify-rs process\n",
    "    process = subprocess.Popen([zoomify_path,\"-l\", url], stdin=subprocess.PIPE, text=True)\n",
    "    # Wait for a bit before starting the next iteration\n",
    "    time.sleep(random.randint(5,10))\n",
    "    curr_time = time.time()\n",
    "    if curr_time - start_time > 300:\n",
    "        time.sleep(30)\n",
    "        auto_click()\n",
    "        time.sleep(150)\n",
    "        start_time = time.time()"
   ]
  },
  {
   "cell_type": "code",
   "execution_count": null,
   "id": "d5829a89-69d7-4b70-8333-b0c35e160d7a",
   "metadata": {},
   "outputs": [],
   "source": []
  }
 ],
 "metadata": {
  "kernelspec": {
   "display_name": "Python 3 (ipykernel)",
   "language": "python",
   "name": "python3"
  },
  "language_info": {
   "codemirror_mode": {
    "name": "ipython",
    "version": 3
   },
   "file_extension": ".py",
   "mimetype": "text/x-python",
   "name": "python",
   "nbconvert_exporter": "python",
   "pygments_lexer": "ipython3",
   "version": "3.9.18"
  }
 },
 "nbformat": 4,
 "nbformat_minor": 5
}
